{
 
 
 "cells": [
  {
   "cell_type": "code",
   "execution_count": null,
   "metadata": {
    "collapsed": false
   },
   "outputs": [],
   "source": [
    "import json\n",
    "from kafka import KafkaProducer\n",
    "from kafka import KafkaConsumer\n",
    "\n",
    "DESTINATION_TOPIC = \"test.topic.{sale_type}\"\n",
    "SOURCE_TOPICS = \"test.topic.raw\"\n",
    "\n",
    "configs = { 'bootstrap_servers':['localhost:9092'], 'auto_offset_reset':'earliest','group_id':'my-group-2'}\n",
    "consumer = KafkaConsumer(SOURCE_TOPICS, **configs)\n",
    "producer = KafkaProducer(bootstrap_servers='localhost:9092')\n",
    "\n",
    "for message in consumer:\n",
    "    body = message.value\n",
    "    dict_data = json.loads(body)\n",
    "    print(\"Actual message : {0}\".format(dict_data))\n",
    "    sale_type = dict_data.get(\"Sales Channel\",\"default\")\n",
    "    ack = producer.send(DESTINATION_TOPIC.format(sale_type=sale_type), body)\n",
    "    print(\"Data acknowledge from Topic: {0}\".format(ack.get().topic))"
   ]
  },
  {
   "cell_type": "code",
   "execution_count": null,
   "metadata": {
    "collapsed": true
   },
   "outputs": [],
   "source": []
  }
 ],
 "metadata": {
  "kernelspec": {
   "display_name": "Python [Root]",
   "language": "python",
   "name": "Python [Root]"
  },
  "language_info": {
   "codemirror_mode": {
    "name": "ipython",
    "version": 2
   },
   "file_extension": ".py",
   "mimetype": "text/x-python",
   "name": "python",
   "nbconvert_exporter": "python",
   "pygments_lexer": "ipython2",
   "version": "2.7.12"
  }
 },
 "nbformat": 4,
 "nbformat_minor": 0
}
