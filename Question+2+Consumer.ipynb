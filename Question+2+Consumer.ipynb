{
 "cells": [
  {
   "cell_type": "code",
   "execution_count": null,
   "metadata": {
    "collapsed": false
   },
   "outputs": [],
   "source": [
    "import json\n",
    "from kafka import KafkaProducer\n",
    "from kafka import KafkaConsumer\n",
    "\n",
    "DESTINATION_TOPIC = \"test.topic.threshold_costs\"\n",
    "SOURCE_TOPIC = \"test.topic.raw\"\n",
    "\n",
    "configs = { 'bootstrap_servers':['localhost:9092'], 'auto_offset_reset':'earliest'}\n",
    "consumer = KafkaConsumer(SOURCE_TOPIC, **configs)\n",
    "producer = KafkaProducer(bootstrap_servers='localhost:9092')\n",
    "\n",
    "for message in consumer:\n",
    "    body = message.value\n",
    "    dict_data = json.loads(body)\n",
    "    if float(dict_data.get('Total Cost',0)) > 304017.56:\n",
    "        ack = producer.send(DESTINATION_TOPIC, body)\n",
    "        meta = ack.get()\n",
    "        print(\"Data acknowledge from Topic: {0}\".format(meta.topic))"
   ]
  },
  {
   "cell_type": "code",
   "execution_count": null,
   "metadata": {
    "collapsed": true
   },
   "outputs": [],
   "source": []
  }
 ],
 "metadata": {
  "kernelspec": {
   "display_name": "Python [Root]",
   "language": "python",
   "name": "Python [Root]"
  },
  "language_info": {
   "codemirror_mode": {
    "name": "ipython",
    "version": 2
   },
   "file_extension": ".py",
   "mimetype": "text/x-python",
   "name": "python",
   "nbconvert_exporter": "python",
   "pygments_lexer": "ipython2",
   "version": "2.7.12"
  }
 },
 "nbformat": 4,
 "nbformat_minor": 0
}



