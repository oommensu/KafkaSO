{
 "cells": [
  {
   "cell_type": "code",
   "execution_count": null,
   "metadata": {},
   "outputs": [],
   "source": [
    "import json\n",
    "from kafka import KafkaProducer\n",
    "\n",
    "producer = KafkaProducer(bootstrap_servers='localhost:9092')\n",
    "TOPIC = \"test.topic.raw\"\n",
    "headers = None\n",
    "data = None\n",
    "\n",
    "\n",
    "file1 = open(\"1500000SalesRecords.csv\")\n",
    "lines = file1.readlines() \n",
    "\n",
    "for line in lines:\n",
    "    line = line.split(\",\")\n",
    "    if not headers:\n",
    "        headers = line\n",
    "        continue\n",
    "    data = line\n",
    "    json_data = json.dumps({k:v for k,v in zip(headers,data)}).encode('utf-8')\n",
    "    ack = producer.send(TOPIC, json_data)\n",
    "    meta = ack.get()\n",
    "    print(\"Data acknowledge from Topic: {0}\".format(meta.topic))\n",
    "\n",
    "    \n"
   ]
  },
  {
   "cell_type": "code",
   "execution_count": null,
   "metadata": {
    "collapsed": true
   },
   "outputs": [],
   "source": []
  }
 ],
 "metadata": {
  "kernelspec": {
   "display_name": "Python 3",
   "language": "python",
   "name": "python3"
  },
  "language_info": {
   "codemirror_mode": {
    "name": "ipython",
    "version": 3
   },
   "file_extension": ".py",
   "mimetype": "text/x-python",
   "name": "python",
   "nbconvert_exporter": "python",
   "pygments_lexer": "ipython3",
   "version": "3.8.3"
  }
 },
 "nbformat": 4,
 "nbformat_minor": 1
}
